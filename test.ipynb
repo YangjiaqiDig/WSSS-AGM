{
 "cells": [
  {
   "cell_type": "code",
   "execution_count": 14,
   "metadata": {},
   "outputs": [],
   "source": [
    "import glob\n",
    "list_of_files = glob.glob('datasets/RESC/pseudo_label_2/*')"
   ]
  },
  {
   "cell_type": "code",
   "execution_count": 15,
   "metadata": {},
   "outputs": [],
   "source": [
    "from PIL import Image\n",
    "import numpy as np\n",
    "def _fast_hist(label_true, label_pred, n_class):\n",
    "    mask = (label_true >= 0) & (label_true < n_class)\n",
    "    hist = np.bincount(\n",
    "        n_class * label_true[mask].astype(int) + label_pred[mask],\n",
    "        minlength=n_class ** 2,\n",
    "    ).reshape(n_class, n_class)\n",
    "    return hist\n",
    "def scores(label_trues, label_preds, n_class):\n",
    "    accumulate_hist = np.zeros((n_class, n_class))\n",
    "    for lt, lp in zip(label_trues, label_preds):\n",
    "        accumulate_hist += _fast_hist(lt.flatten(), lp.flatten(), n_class)\n",
    "    # TP / all\n",
    "    acc = np.diag(accumulate_hist).sum() / accumulate_hist.sum()\n",
    "    # TP / (TP + FN)\n",
    "    acc_cls = np.diag(accumulate_hist) / accumulate_hist.sum(axis=1)\n",
    "    acc_cls = np.nanmean(acc_cls)\n",
    "\n",
    "    intersection = np.diag(accumulate_hist)\n",
    "    union = accumulate_hist.sum(axis=1) + accumulate_hist.sum(axis=0) - intersection\n",
    "    iu = intersection / union\n",
    "    freq = accumulate_hist.sum(axis=1) / accumulate_hist.sum()\n",
    "    fwavacc = (freq[freq > 0] * iu[freq > 0]).sum()\n",
    "    valid = accumulate_hist.sum(axis=1) > 0  # added\n",
    "    mean_iu = np.nanmean(iu[valid])\n",
    "    cls_iu = dict(zip(range(n_class), iu))\n",
    "    # import pdb; pdb.set_trace()\n",
    "\n",
    "    return {\n",
    "        \"Pixel Accuracy\": acc,\n",
    "        \"Mean Accuracy\": acc_cls,\n",
    "        \"Frequency Weighted IoU\": fwavacc,\n",
    "        \"Mean IoU\": mean_iu,\n",
    "        \"Class IoU\": cls_iu,\n",
    "    }\n",
    "def convert_resc_labels(img):\n",
    "    # 0 background,\n",
    "    # 1 lesion(need turn to background),  1 -> 0\n",
    "    # 0.74 SRF(need turn to 1),           0.74 -> 1\n",
    "    # 0.51 PED(need turn to 2)            0.51 -> 2\n",
    "    # back: 0, ped: 128, srf: 191, retinal: 255\n",
    "    img[img == 255] = 0\n",
    "    img[img == 191] = 1\n",
    "    img[img == 128] = 2\n",
    "    return img\n",
    "pred_list = []\n",
    "gt_list = []\n",
    "for each_file in list_of_files:\n",
    "    name = each_file.split('/')[-1].split('.')[0]\n",
    "    predict = np.array(Image.open(each_file))\n",
    "    gt_dir = 'datasets/RESC/train/label_images/' + name + '.bmp'\n",
    "    gt = np.array(Image.open(gt_dir))\n",
    "    gt = convert_resc_labels(gt)\n",
    "    pred_list.append(predict)\n",
    "    gt_list.append(gt)\n",
    "\n",
    "score = scores(gt_list, pred_list, n_class=3)"
   ]
  },
  {
   "cell_type": "code",
   "execution_count": 16,
   "metadata": {},
   "outputs": [
    {
     "data": {
      "text/plain": [
       "{'Pixel Accuracy': 0.9788560660726385,\n",
       " 'Mean Accuracy': 0.6500623565700147,\n",
       " 'Frequency Weighted IoU': 0.9629158298008386,\n",
       " 'Mean IoU': 0.5387106503954331,\n",
       " 'Class IoU': {0: 0.9788435252417673,\n",
       "  1: 0.34947444311318937,\n",
       "  2: 0.28781398283134274}}"
      ]
     },
     "execution_count": 16,
     "metadata": {},
     "output_type": "execute_result"
    }
   ],
   "source": [
    "score"
   ]
  },
  {
   "cell_type": "code",
   "execution_count": null,
   "metadata": {},
   "outputs": [],
   "source": []
  }
 ],
 "metadata": {
  "kernelspec": {
   "display_name": "retinalenv",
   "language": "python",
   "name": "python3"
  },
  "language_info": {
   "codemirror_mode": {
    "name": "ipython",
    "version": 3
   },
   "file_extension": ".py",
   "mimetype": "text/x-python",
   "name": "python",
   "nbconvert_exporter": "python",
   "pygments_lexer": "ipython3",
   "version": "3.8.0"
  },
  "orig_nbformat": 4,
  "vscode": {
   "interpreter": {
    "hash": "3859ef2d938cfec5d23bf1098d4a5d2863751f279caf158ea7d48df6834dfa36"
   }
  }
 },
 "nbformat": 4,
 "nbformat_minor": 2
}
